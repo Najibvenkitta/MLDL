{
 "cells": [
  {
   "cell_type": "markdown",
   "metadata": {},
   "source": [
    "!pip install SpeechRecognition"
   ]
  },
  {
   "cell_type": "code",
   "execution_count": 1,
   "metadata": {},
   "outputs": [],
   "source": [
    "import speech_recognition as sr "
   ]
  },
  {
   "cell_type": "code",
   "execution_count": 3,
   "metadata": {},
   "outputs": [],
   "source": [
    "#Sample rate is how often values are recorded \n",
    "sample_rate = 48000\n",
    "#Chunk is like a buffer. It stores 2048 samples (bytes of data) \n",
    "#here. \n",
    "#it is advisable to use powers of 2 such as 1024 or 2048 \n",
    "chunk_size = 2048\n",
    "#Initialize the recognizer \n",
    "r = sr.Recognizer() "
   ]
  },
  {
   "cell_type": "code",
   "execution_count": 4,
   "metadata": {},
   "outputs": [],
   "source": [
    "#generate a list of all audio cards/microphones \n",
    "mic_list = sr.Microphone.list_microphone_names() "
   ]
  },
  {
   "cell_type": "code",
   "execution_count": 5,
   "metadata": {},
   "outputs": [
    {
     "name": "stdout",
     "output_type": "stream",
     "text": [
      "Microsoft Sound Mapper - Input\n",
      "Microphone (Realtek Audio)\n",
      "Microsoft Sound Mapper - Output\n",
      "Speakers / Headphones (Realtek \n",
      "Primary Sound Capture Driver\n",
      "Microphone (Realtek Audio)\n",
      "Primary Sound Driver\n",
      "Speakers / Headphones (Realtek Audio)\n",
      "Realtek ASIO\n",
      "Speakers / Headphones (Realtek Audio)\n",
      "Microphone (Realtek Audio)\n",
      "Stereo Mix (Realtek HD Audio Stereo input)\n",
      "Speakers (Realtek HD Audio output)\n",
      "Microphone (Realtek HD Audio Mic input)\n"
     ]
    }
   ],
   "source": [
    "for i, microphone_name in enumerate(mic_list): \n",
    "    print(microphone_name)"
   ]
  },
  {
   "cell_type": "code",
   "execution_count": 11,
   "metadata": {},
   "outputs": [
    {
     "name": "stdout",
     "output_type": "stream",
     "text": [
      "what is burning\n"
     ]
    }
   ],
   "source": [
    "#with sr.Microphone() as source: # use the default microphone as the audio source\n",
    "with sr.Microphone(sample_rate = sample_rate, chunk_size = chunk_size) as source:     \n",
    "    audio = r.listen(source) # listen for the first phrase and extract it into audio data\n",
    "    try:\n",
    "        print(r.recognize_google(audio)) # recognize speech using Google Speech Recognition\n",
    "    except LookupError: # speech is unintelligible\n",
    "        print(\"Could not understand audio\")"
   ]
  },
  {
   "cell_type": "code",
   "execution_count": 23,
   "metadata": {},
   "outputs": [
    {
     "name": "stdout",
     "output_type": "stream",
     "text": [
      "smell during periods\n"
     ]
    }
   ],
   "source": [
    "wavdata = sr.AudioFile('data/jackhammer.wav')\n",
    "with wavdata as source:\n",
    "    audio = r.record(source)\n",
    "print(r.recognize_google(audio))"
   ]
  },
  {
   "cell_type": "code",
   "execution_count": 16,
   "metadata": {},
   "outputs": [
    {
     "name": "stdout",
     "output_type": "stream",
     "text": [
      "the still smell of old beer drinkers it takes hi to bring out the order I called them restore selfinvest a salt a kotess find the M tacos Al pastor my favourite is just for food is Bihar cross bun\n"
     ]
    }
   ],
   "source": [
    "harvard = sr.AudioFile('data/harvard.wav')\n",
    "with harvard as source:\n",
    "    audio = r.record(source)\n",
    "print(r.recognize_google(audio))"
   ]
  },
  {
   "cell_type": "code",
   "execution_count": 20,
   "metadata": {},
   "outputs": [
    {
     "name": "stdout",
     "output_type": "stream",
     "text": [
      "I call dip research help\n"
     ]
    }
   ],
   "source": [
    "#Set offsert and duration\n",
    "\n",
    "with harvard as source:\n",
    "    audio = r.record(source, offset=6, duration=3)\n",
    "print(r.recognize_google(audio))"
   ]
  },
  {
   "cell_type": "code",
   "execution_count": 27,
   "metadata": {},
   "outputs": [
    {
     "name": "stdout",
     "output_type": "stream",
     "text": [
      "<speech_recognition.AudioData object at 0x0000016C606C2748>\n",
      "but still smell old beer drinkers it takes hi to bring up the order I called up restore It helped him that a selfie kotess find him because of my favourite is best for food is Bihar cross bun\n"
     ]
    }
   ],
   "source": [
    "#handle noise \n",
    "\n",
    "with harvard as source:\n",
    "    r.adjust_for_ambient_noise(source)\n",
    "    audio = r.record(source)\n",
    "print(audio)\n",
    "print(r.recognize_google(audio))"
   ]
  },
  {
   "cell_type": "code",
   "execution_count": 29,
   "metadata": {},
   "outputs": [
    {
     "name": "stdout",
     "output_type": "stream",
     "text": [
      "{'alternative': [{'transcript': 'but still smell of old beer drinkers it takes hi to bring up the order I called up restore It helped him that a selfie kotess find him because of my favourite is just for food is Bihar cross bun', 'confidence': 0.92765313}, {'transcript': 'but still smell old beer drinkers it takes hi to bring up the order I called up restore It helped him that a selfie kotess find him because of my favourite is just for food is Bihar cross bun'}, {'transcript': 'the still smell old beer drinkers it takes hi to bring up the order I called up restore It helped him that a selfie kotess find him because of my favourite is just for food is Bihar cross bun'}, {'transcript': 'best elss Mela old beer drinkers it takes hi to bring up the order I called up restore It helped him that a selfie kotess find him because of my favourite is just for food is Bihar cross bun'}, {'transcript': 'but still smell of old beer drinkers it takes hi to bring up the order I called up restore It helped him that a selfie kotess find him because of my favourite is best for food is Bihar cross bun'}], 'final': True}\n"
     ]
    }
   ],
   "source": [
    "print(r.recognize_google(audio, show_all=True))"
   ]
  },
  {
   "cell_type": "code",
   "execution_count": null,
   "metadata": {},
   "outputs": [],
   "source": []
  }
 ],
 "metadata": {
  "kernelspec": {
   "display_name": "Python 3",
   "language": "python",
   "name": "python3"
  },
  "language_info": {
   "codemirror_mode": {
    "name": "ipython",
    "version": 3
   },
   "file_extension": ".py",
   "mimetype": "text/x-python",
   "name": "python",
   "nbconvert_exporter": "python",
   "pygments_lexer": "ipython3",
   "version": "3.7.6"
  }
 },
 "nbformat": 4,
 "nbformat_minor": 4
}
