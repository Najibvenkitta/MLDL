{
 "cells": [
  {
   "cell_type": "markdown",
   "metadata": {},
   "source": [
    "#### pip install --upgrade chatterbot_corpus\n",
    "#### pip install --upgrade chatterbot"
   ]
  },
  {
   "cell_type": "code",
   "execution_count": 2,
   "metadata": {},
   "outputs": [],
   "source": [
    "from chatterbot import ChatBot\n",
    "from chatterbot.trainers import ListTrainer"
   ]
  },
  {
   "cell_type": "code",
   "execution_count": 3,
   "metadata": {},
   "outputs": [
    {
     "name": "stderr",
     "output_type": "stream",
     "text": [
      "[nltk_data] Downloading package stopwords to\n",
      "[nltk_data]     C:\\Users\\Christy\\AppData\\Roaming\\nltk_data...\n",
      "[nltk_data]   Package stopwords is already up-to-date!\n",
      "[nltk_data] Downloading package averaged_perceptron_tagger to\n",
      "[nltk_data]     C:\\Users\\Christy\\AppData\\Roaming\\nltk_data...\n",
      "[nltk_data]   Package averaged_perceptron_tagger is already up-to-\n",
      "[nltk_data]       date!\n"
     ]
    }
   ],
   "source": [
    "my_bot = ChatBot(name='PyBot', read_only=True,\n",
    "                 logic_adapters=['chatterbot.logic.MathematicalEvaluation',\n",
    "                                 'chatterbot.logic.BestMatch'])"
   ]
  },
  {
   "cell_type": "code",
   "execution_count": 4,
   "metadata": {},
   "outputs": [],
   "source": [
    "small_talk = ['hi there!',\n",
    "              'hi!',\n",
    "              'how do you do?',\n",
    "              'how are you?',\n",
    "              'i\\'m cool.',\n",
    "              'fine, you?',\n",
    "              'always cool.',\n",
    "              'i\\'m ok',\n",
    "              'glad to hear that.',\n",
    "              'i\\'m fine',\n",
    "              'glad to hear that.',\n",
    "              'i feel awesome',\n",
    "              'excellent, glad to hear that.',\n",
    "              'not so good',\n",
    "              'sorry to hear that.',\n",
    "              'what\\'s your name?',\n",
    "              'i\\'m pybot. ask me a math question, please.']\n",
    "math_talk_1 = ['pythagorean theorem',\n",
    "               'a squared plus b squared equals c squared.']\n",
    "math_talk_2 = ['law of cosines',\n",
    "               'c**2 = a**2 + b**2 - 2 * a * b * cos(gamma)']"
   ]
  },
  {
   "cell_type": "code",
   "execution_count": 5,
   "metadata": {},
   "outputs": [
    {
     "name": "stdout",
     "output_type": "stream",
     "text": [
      "List Trainer: [####################] 100%\n",
      "List Trainer: [####################] 100%\n",
      "List Trainer: [####################] 100%\n"
     ]
    }
   ],
   "source": [
    "list_trainer = ListTrainer(my_bot)\n",
    "for item in (small_talk, math_talk_1, math_talk_2):\n",
    "    list_trainer.train(item)"
   ]
  },
  {
   "cell_type": "code",
   "execution_count": 6,
   "metadata": {},
   "outputs": [
    {
     "name": "stdout",
     "output_type": "stream",
     "text": [
      "how do you do?\n"
     ]
    }
   ],
   "source": [
    "print(my_bot.get_response(\"hi\"))"
   ]
  },
  {
   "cell_type": "code",
   "execution_count": 12,
   "metadata": {},
   "outputs": [
    {
     "name": "stdout",
     "output_type": "stream",
     "text": [
      "Do you have feelings?\n"
     ]
    }
   ],
   "source": [
    "print(my_bot.get_response(\"i am feeling bad\"))"
   ]
  },
  {
   "cell_type": "code",
   "execution_count": 13,
   "metadata": {},
   "outputs": [
    {
     "name": "stdout",
     "output_type": "stream",
     "text": [
      "i'm pybot. ask me a math question, please.\n"
     ]
    }
   ],
   "source": [
    "print(my_bot.get_response(\"what's your name?\"))"
   ]
  },
  {
   "cell_type": "code",
   "execution_count": 17,
   "metadata": {},
   "outputs": [
    {
     "name": "stdout",
     "output_type": "stream",
     "text": [
      "a squared plus b squared equals c squared.\n"
     ]
    }
   ],
   "source": [
    "print(my_bot.get_response(\"can you explain pythagorean theorem\"))"
   ]
  },
  {
   "cell_type": "code",
   "execution_count": 19,
   "metadata": {},
   "outputs": [
    {
     "name": "stdout",
     "output_type": "stream",
     "text": [
      "c**2 = a**2 + b**2 - 2 * a * b * cos(gamma)\n"
     ]
    }
   ],
   "source": [
    "print(my_bot.get_response(\"can you tell me law of cosines?\"))"
   ]
  },
  {
   "cell_type": "markdown",
   "metadata": {},
   "source": [
    "Training a Bot with a Corpus of Data"
   ]
  },
  {
   "cell_type": "code",
   "execution_count": 20,
   "metadata": {},
   "outputs": [
    {
     "name": "stdout",
     "output_type": "stream",
     "text": [
      "Training ai.yml: [####################] 100%\n",
      "Training botprofile.yml: [####################] 100%\n",
      "Training computers.yml: [####################] 100%\n",
      "Training conversations.yml: [####################] 100%\n",
      "Training emotion.yml: [####################] 100%\n",
      "Training food.yml: [####################] 100%\n",
      "Training gossip.yml: [####################] 100%\n",
      "Training greetings.yml: [####################] 100%\n",
      "Training health.yml: [####################] 100%\n",
      "Training history.yml: [####################] 100%\n",
      "Training humor.yml: [####################] 100%\n",
      "Training literature.yml: [####################] 100%\n",
      "Training money.yml: [####################] 100%\n",
      "Training movies.yml: [####################] 100%\n",
      "Training politics.yml: [####################] 100%\n",
      "Training psychology.yml: [####################] 100%\n",
      "Training science.yml: [####################] 100%\n",
      "Training sports.yml: [####################] 100%\n",
      "Training trivia.yml: [####################] 100%\n"
     ]
    }
   ],
   "source": [
    "from chatterbot.trainers import ChatterBotCorpusTrainer\n",
    "corpus_trainer = ChatterBotCorpusTrainer(my_bot)\n",
    "corpus_trainer.train('chatterbot.corpus.english')"
   ]
  },
  {
   "cell_type": "code",
   "execution_count": 24,
   "metadata": {},
   "outputs": [
    {
     "name": "stdout",
     "output_type": "stream",
     "text": [
      "what is a government\n"
     ]
    }
   ],
   "source": [
    "print(my_bot.get_response(\"?\"))"
   ]
  },
  {
   "cell_type": "code",
   "execution_count": 26,
   "metadata": {},
   "outputs": [],
   "source": [
    "import chatterbot\n",
    "?chatterbot"
   ]
  },
  {
   "cell_type": "code",
   "execution_count": null,
   "metadata": {},
   "outputs": [],
   "source": []
  }
 ],
 "metadata": {
  "kernelspec": {
   "display_name": "Python 3",
   "language": "python",
   "name": "python3"
  },
  "language_info": {
   "codemirror_mode": {
    "name": "ipython",
    "version": 3
   },
   "file_extension": ".py",
   "mimetype": "text/x-python",
   "name": "python",
   "nbconvert_exporter": "python",
   "pygments_lexer": "ipython3",
   "version": "3.7.6"
  }
 },
 "nbformat": 4,
 "nbformat_minor": 4
}
