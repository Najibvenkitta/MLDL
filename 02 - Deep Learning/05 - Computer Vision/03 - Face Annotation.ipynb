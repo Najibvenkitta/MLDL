{
 "cells": [
  {
   "cell_type": "code",
   "execution_count": 118,
   "metadata": {},
   "outputs": [],
   "source": [
    "import cv2\n",
    "import numpy as np\n",
    "\n",
    "\n",
    "\n",
    "def draw_rectangle(event, x, y, flags, params):\n",
    "    \n",
    "    coordinates = list()\n",
    "    subcorr = list()\n",
    "\n",
    "    global ix, iy, drawing ,counter\n",
    "\n",
    "    if event == cv2.EVENT_LBUTTONDOWN:\n",
    "        drawing = True\n",
    "        ix, iy = x, y\n",
    "        \n",
    "    #elif event == cv2.EVENT_MOUSEMOVE:\n",
    "    #    if drawing == True:\n",
    "    #        x=x\n",
    "    #        y=y\n",
    "    #        cv2.rectangle(img, pt1 = (ix, iy), pt2 = (x, y), \n",
    "    #                      color = (87, 184, 237), thickness = 1)\n",
    "            \n",
    "    elif event == cv2.EVENT_LBUTTONUP:\n",
    "        drawing = False\n",
    "        cv2.rectangle(img, pt1 = (ix, iy), pt2 = (x, y), \n",
    "                          color = (87, 184, 237), thickness = 1)\n",
    "        cv2.putText(img, text = \"%s\"%counter, org = ((ix+x)//2,(iy+y)//2),fontFace = cv2.FONT_HERSHEY_DUPLEX,\n",
    "                    fontScale = 1, color = (255, 255, 255), thickness = 2, lineType = cv2.LINE_AA)\n",
    "        \n",
    "        subcorr.append(ix)\n",
    "        subcorr.append(iy)\n",
    "        subcorr.append(x)\n",
    "        subcorr.append(y)\n",
    "        cor_dict = {counter : subcorr}\n",
    "        print(cor_dict)\n",
    "        counter+=1\n",
    "        "
   ]
  },
  {
   "cell_type": "code",
   "execution_count": 119,
   "metadata": {},
   "outputs": [],
   "source": [
    "# Step 1. Define callback function\n",
    "drawing = False\n",
    "ix = -1\n",
    "iy = -1\n",
    "counter =1"
   ]
  },
  {
   "cell_type": "code",
   "execution_count": 120,
   "metadata": {},
   "outputs": [],
   "source": [
    "# Step 2. Call the window\n",
    "img = cv2.imread('data/people.jpg')"
   ]
  },
  {
   "cell_type": "code",
   "execution_count": 121,
   "metadata": {},
   "outputs": [
    {
     "name": "stdout",
     "output_type": "stream",
     "text": [
      "{1: [203, 81, 308, 233]}\n",
      "{2: [404, 132, 522, 282]}\n",
      "{3: [552, 62, 652, 222]}\n",
      "{4: [692, 138, 810, 290]}\n",
      "{5: [968, 114, 1063, 262]}\n"
     ]
    }
   ],
   "source": [
    "cv2.namedWindow('People', cv2.WINDOW_AUTOSIZE)\n",
    "cv2.setMouseCallback('People', draw_rectangle)\n",
    "# Step 3. Execution \n",
    "while True: \n",
    "    cv2.imshow('People', img)\n",
    "    if cv2.waitKey(10) & 0xFF == 27:\n",
    "        break\n",
    "\n",
    "cv2.destroyAllWindows()"
   ]
  }
 ],
 "metadata": {
  "kernelspec": {
   "display_name": "Python 3",
   "language": "python",
   "name": "python3"
  },
  "language_info": {
   "codemirror_mode": {
    "name": "ipython",
    "version": 3
   },
   "file_extension": ".py",
   "mimetype": "text/x-python",
   "name": "python",
   "nbconvert_exporter": "python",
   "pygments_lexer": "ipython3",
   "version": "3.7.4"
  }
 },
 "nbformat": 4,
 "nbformat_minor": 4
}
