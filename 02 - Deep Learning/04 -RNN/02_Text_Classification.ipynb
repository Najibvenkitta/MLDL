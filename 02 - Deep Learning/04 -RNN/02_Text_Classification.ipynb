{
  "nbformat": 4,
  "nbformat_minor": 0,
  "metadata": {
    "colab": {
      "name": "02- Text Classification.ipynb",
      "provenance": [],
      "collapsed_sections": []
    },
    "kernelspec": {
      "name": "python3",
      "display_name": "Python 3"
    },
    "accelerator": "GPU"
  },
  "cells": [
    {
      "cell_type": "code",
      "metadata": {
        "id": "WPPkFst7eJ6Z",
        "colab_type": "code",
        "colab": {
          "base_uri": "https://localhost:8080/",
          "height": 67
        },
        "outputId": "00141029-c32d-407d-bc60-dd8e8f333713"
      },
      "source": [
        "import nltk\n",
        "nltk.download('stopwords')"
      ],
      "execution_count": 1,
      "outputs": [
        {
          "output_type": "stream",
          "text": [
            "[nltk_data] Downloading package stopwords to /root/nltk_data...\n",
            "[nltk_data]   Unzipping corpora/stopwords.zip.\n"
          ],
          "name": "stdout"
        },
        {
          "output_type": "execute_result",
          "data": {
            "text/plain": [
              "True"
            ]
          },
          "metadata": {
            "tags": []
          },
          "execution_count": 1
        }
      ]
    },
    {
      "cell_type": "code",
      "metadata": {
        "id": "pC8O0pXPea4f",
        "colab_type": "code",
        "colab": {
          "base_uri": "https://localhost:8080/",
          "height": 34
        },
        "outputId": "1682f4eb-7fd5-44e1-9682-99008a4d6a06"
      },
      "source": [
        "import csv\n",
        "import tensorflow as tf\n",
        "import numpy as np\n",
        "from tensorflow.keras.preprocessing.text import Tokenizer\n",
        "from tensorflow.keras.preprocessing.sequence import pad_sequences\n",
        "from nltk.corpus import stopwords\n",
        "STOPWORDS = set(stopwords.words('english'))\n",
        "\n",
        "print(tf.__version__)"
      ],
      "execution_count": 2,
      "outputs": [
        {
          "output_type": "stream",
          "text": [
            "2.2.0\n"
          ],
          "name": "stdout"
        }
      ]
    },
    {
      "cell_type": "code",
      "metadata": {
        "id": "bgGiMlJ5eRCC",
        "colab_type": "code",
        "colab": {}
      },
      "source": [
        "vocab_size = 5000\n",
        "embedding_dim = 64\n",
        "max_length = 200\n",
        "trunc_type = 'post'\n",
        "padding_type = 'post'\n",
        "oov_tok = '<OOV>'\n",
        "training_portion = .8"
      ],
      "execution_count": 3,
      "outputs": []
    },
    {
      "cell_type": "code",
      "metadata": {
        "id": "I7gteB4beuLv",
        "colab_type": "code",
        "colab": {
          "base_uri": "https://localhost:8080/",
          "height": 50
        },
        "outputId": "bd786e61-323a-4a82-8dab-88360dea3b17"
      },
      "source": [
        "_URL = 'https://storage.googleapis.com/dataset-uploader/bbc/bbc-text.csv'\n",
        "\n",
        "PATH = tf.keras.utils.get_file('/bbc-text.csv', origin=_URL, extract=False)\n",
        "\n"
      ],
      "execution_count": 4,
      "outputs": [
        {
          "output_type": "stream",
          "text": [
            "Downloading data from https://storage.googleapis.com/dataset-uploader/bbc/bbc-text.csv\n",
            "5062656/5057493 [==============================] - 0s 0us/step\n"
          ],
          "name": "stdout"
        }
      ]
    },
    {
      "cell_type": "code",
      "metadata": {
        "id": "OSHP1AAee6Ph",
        "colab_type": "code",
        "colab": {
          "base_uri": "https://localhost:8080/",
          "height": 35
        },
        "outputId": "a1ce7a42-faae-4857-a5f5-31802ff3a361"
      },
      "source": [
        "PATH"
      ],
      "execution_count": 5,
      "outputs": [
        {
          "output_type": "execute_result",
          "data": {
            "application/vnd.google.colaboratory.intrinsic+json": {
              "type": "string"
            },
            "text/plain": [
              "'/bbc-text.csv'"
            ]
          },
          "metadata": {
            "tags": []
          },
          "execution_count": 5
        }
      ]
    },
    {
      "cell_type": "code",
      "metadata": {
        "id": "fExFgGV2eigg",
        "colab_type": "code",
        "colab": {
          "base_uri": "https://localhost:8080/",
          "height": 50
        },
        "outputId": "5f35f59b-8a90-49a8-c182-191cda97ac4d"
      },
      "source": [
        "articles = []\n",
        "labels = []\n",
        "\n",
        "with open(PATH, 'r') as csvfile:\n",
        "    reader = csv.reader(csvfile, delimiter=',')\n",
        "    next(reader)\n",
        "    for row in reader:\n",
        "        labels.append(row[0])\n",
        "        article = row[1]\n",
        "        for word in STOPWORDS:\n",
        "            token = ' ' + word + ' '\n",
        "            article = article.replace(token, ' ')\n",
        "            article = article.replace(' ', ' ')\n",
        "        articles.append(article)\n",
        "print(len(labels))\n",
        "print(len(articles))"
      ],
      "execution_count": 6,
      "outputs": [
        {
          "output_type": "stream",
          "text": [
            "2225\n",
            "2225\n"
          ],
          "name": "stdout"
        }
      ]
    },
    {
      "cell_type": "code",
      "metadata": {
        "id": "VrPhP9L5en8m",
        "colab_type": "code",
        "colab": {
          "base_uri": "https://localhost:8080/",
          "height": 101
        },
        "outputId": "1bc8bea0-1698-41ca-9271-0ce800613ae5"
      },
      "source": [
        "train_size = int(len(articles) * training_portion)\n",
        "\n",
        "train_articles = articles[0: train_size]\n",
        "train_labels = labels[0: train_size]\n",
        "\n",
        "validation_articles = articles[train_size:]\n",
        "validation_labels = labels[train_size:]\n",
        "\n",
        "print(train_size)\n",
        "print(len(train_articles))\n",
        "print(len(train_labels))\n",
        "print(len(validation_articles))\n",
        "print(len(validation_labels))"
      ],
      "execution_count": 7,
      "outputs": [
        {
          "output_type": "stream",
          "text": [
            "1780\n",
            "1780\n",
            "1780\n",
            "445\n",
            "445\n"
          ],
          "name": "stdout"
        }
      ]
    },
    {
      "cell_type": "code",
      "metadata": {
        "id": "SC-aDp_IfSFe",
        "colab_type": "code",
        "colab": {}
      },
      "source": [
        "?Tokenizer"
      ],
      "execution_count": 8,
      "outputs": []
    },
    {
      "cell_type": "markdown",
      "metadata": {
        "id": "utEEyoS9f3RE",
        "colab_type": "text"
      },
      "source": [
        "Tokenizer does all the heavy lifting for us. In our articles that it was tokenizing, it will take 5,000 most common words. oov_token is to put a special value in when an unseen word is encountered. This means we want <OOV> to be used for words that are not in the word_index"
      ]
    },
    {
      "cell_type": "markdown",
      "metadata": {
        "id": "CzU1-ZjuYQkG",
        "colab_type": "text"
      },
      "source": [
        "Lets us define an Out Of Vocab token - this will replace any unknown words with a token of our choosing. This is better than just throwing away unknown words since it tells our model there was information here."
      ]
    },
    {
      "cell_type": "code",
      "metadata": {
        "id": "9aVvudgAffC3",
        "colab_type": "code",
        "colab": {
          "base_uri": "https://localhost:8080/",
          "height": 185
        },
        "outputId": "4c03beae-5d43-4838-f2ee-5fd23e54ba80"
      },
      "source": [
        "tokenizer = Tokenizer(num_words = vocab_size, oov_token=oov_tok)\n",
        "tokenizer.fit_on_texts(train_articles)\n",
        "word_index = tokenizer.word_index\n",
        "dict(list(word_index.items())[0:10])"
      ],
      "execution_count": 9,
      "outputs": [
        {
          "output_type": "execute_result",
          "data": {
            "text/plain": [
              "{'<OOV>': 1,\n",
              " 'also': 6,\n",
              " 'mr': 3,\n",
              " 'new': 8,\n",
              " 'one': 10,\n",
              " 'people': 7,\n",
              " 'said': 2,\n",
              " 'us': 9,\n",
              " 'would': 4,\n",
              " 'year': 5}"
            ]
          },
          "metadata": {
            "tags": []
          },
          "execution_count": 9
        }
      ]
    },
    {
      "cell_type": "markdown",
      "metadata": {
        "id": "XqU2CynzgKsU",
        "colab_type": "text"
      },
      "source": [
        "After tokenization, the next step is to turn those tokens into lists of sequence. The following is the 11th article in the training data that has been turned into sequences."
      ]
    },
    {
      "cell_type": "code",
      "metadata": {
        "id": "SoPeNAzDfp0S",
        "colab_type": "code",
        "colab": {
          "base_uri": "https://localhost:8080/",
          "height": 54
        },
        "outputId": "95aa7b2e-1e69-483e-b77b-f94a46696fe5"
      },
      "source": [
        "train_sequences = tokenizer.texts_to_sequences(train_articles)\n",
        "print(train_sequences[10])"
      ],
      "execution_count": 10,
      "outputs": [
        {
          "output_type": "stream",
          "text": [
            "[2432, 1, 225, 4996, 22, 641, 586, 225, 4996, 1, 1, 1663, 1, 1, 2432, 22, 564, 1, 1, 140, 278, 1, 140, 278, 796, 823, 662, 2308, 1, 1144, 1694, 1, 1721, 4997, 1, 1, 1, 1, 1, 4738, 1, 1, 122, 4515, 1, 2, 2874, 1506, 352, 4739, 1, 52, 341, 1, 352, 2172, 3962, 41, 22, 3796, 1, 1, 1, 1, 542, 1, 1, 1, 835, 631, 2367, 347, 4740, 1, 365, 22, 1, 787, 2368, 1, 4302, 138, 10, 1, 3666, 682, 3533, 1, 22, 1, 414, 823, 662, 1, 90, 13, 633, 1, 225, 4996, 1, 599, 1, 1694, 1021, 1, 4998, 808, 1865, 117, 1, 1, 1, 2974, 22, 1, 99, 278, 1, 1607, 4999, 542, 492, 1, 1443, 4741, 778, 1320, 1, 1862, 10, 33, 641, 319, 1, 62, 478, 564, 301, 1507, 22, 479, 1, 1, 1666, 1, 797, 1, 3067, 1, 1364, 6, 1, 2432, 564, 22, 2971, 4735, 1, 1, 1, 1, 1, 850, 39, 1826, 675, 297, 26, 979, 1, 882, 22, 361, 22, 13, 301, 1507, 1342, 374, 20, 63, 883, 1096, 4303, 247]\n"
          ],
          "name": "stdout"
        }
      ]
    },
    {
      "cell_type": "code",
      "metadata": {
        "id": "FoYRahXegMwj",
        "colab_type": "code",
        "colab": {
          "base_uri": "https://localhost:8080/",
          "height": 118
        },
        "outputId": "45d94c03-eb59-46a5-f017-e6e84b7ca475"
      },
      "source": [
        "train_padded = pad_sequences(train_sequences, maxlen=max_length, padding=padding_type, truncating=trunc_type)\n",
        "print(\"train_sequences[0]\",len(train_sequences[0]))\n",
        "print(\"train_padded[0]\",len(train_padded[0]))\n",
        "\n",
        "print(\"train_sequences[1]\",len(train_sequences[1]))\n",
        "print(\"train_padded[1]\",len(train_padded[1]))\n",
        "\n",
        "print(\"train_sequences[10]\",len(train_sequences[10]))\n",
        "print(\"train_padded[10]\",len(train_padded[10]))"
      ],
      "execution_count": 11,
      "outputs": [
        {
          "output_type": "stream",
          "text": [
            "train_sequences[0] 426\n",
            "train_padded[0] 200\n",
            "train_sequences[1] 192\n",
            "train_padded[1] 200\n",
            "train_sequences[10] 186\n",
            "train_padded[10] 200\n"
          ],
          "name": "stdout"
        }
      ]
    },
    {
      "cell_type": "code",
      "metadata": {
        "id": "BtKvmgbCgmiE",
        "colab_type": "code",
        "colab": {
          "base_uri": "https://localhost:8080/",
          "height": 269
        },
        "outputId": "a1100994-d60d-46e6-b6d7-c0a142f23272"
      },
      "source": [
        "print(train_padded[10])"
      ],
      "execution_count": 12,
      "outputs": [
        {
          "output_type": "stream",
          "text": [
            "[2432    1  225 4996   22  641  586  225 4996    1    1 1663    1    1\n",
            " 2432   22  564    1    1  140  278    1  140  278  796  823  662 2308\n",
            "    1 1144 1694    1 1721 4997    1    1    1    1    1 4738    1    1\n",
            "  122 4515    1    2 2874 1506  352 4739    1   52  341    1  352 2172\n",
            " 3962   41   22 3796    1    1    1    1  542    1    1    1  835  631\n",
            " 2367  347 4740    1  365   22    1  787 2368    1 4302  138   10    1\n",
            " 3666  682 3533    1   22    1  414  823  662    1   90   13  633    1\n",
            "  225 4996    1  599    1 1694 1021    1 4998  808 1865  117    1    1\n",
            "    1 2974   22    1   99  278    1 1607 4999  542  492    1 1443 4741\n",
            "  778 1320    1 1862   10   33  641  319    1   62  478  564  301 1507\n",
            "   22  479    1    1 1666    1  797    1 3067    1 1364    6    1 2432\n",
            "  564   22 2971 4735    1    1    1    1    1  850   39 1826  675  297\n",
            "   26  979    1  882   22  361   22   13  301 1507 1342  374   20   63\n",
            "  883 1096 4303  247    0    0    0    0    0    0    0    0    0    0\n",
            "    0    0    0    0]\n"
          ],
          "name": "stdout"
        }
      ]
    },
    {
      "cell_type": "code",
      "metadata": {
        "id": "ylVaY6C1gpr6",
        "colab_type": "code",
        "colab": {
          "base_uri": "https://localhost:8080/",
          "height": 50
        },
        "outputId": "936bacd0-6432-415e-a6de-5e8fc0239b5c"
      },
      "source": [
        "validation_sequences = tokenizer.texts_to_sequences(validation_articles)\n",
        "validation_padded = pad_sequences(validation_sequences, maxlen=max_length, padding=padding_type, truncating=trunc_type)\n",
        "\n",
        "print(len(validation_sequences))\n",
        "print(validation_padded.shape)"
      ],
      "execution_count": 14,
      "outputs": [
        {
          "output_type": "stream",
          "text": [
            "445\n",
            "(445, 200)\n"
          ],
          "name": "stdout"
        }
      ]
    },
    {
      "cell_type": "markdown",
      "metadata": {
        "id": "Zxy6t4H-hBN7",
        "colab_type": "text"
      },
      "source": [
        "Now we are going to look at the labels. Because our labels are text, so we will tokenize them, when training, labels are expected to be numpy arrays. So we will turn list of labels into numpy arrays like so"
      ]
    },
    {
      "cell_type": "code",
      "metadata": {
        "id": "70YfYf4vg2uI",
        "colab_type": "code",
        "colab": {
          "base_uri": "https://localhost:8080/",
          "height": 151
        },
        "outputId": "20d09530-f23b-4adc-889d-cb71e3e1402b"
      },
      "source": [
        "label_tokenizer = Tokenizer()\n",
        "label_tokenizer.fit_on_texts(labels)\n",
        "\n",
        "training_label_seq = np.array(label_tokenizer.texts_to_sequences(train_labels))\n",
        "validation_label_seq = np.array(label_tokenizer.texts_to_sequences(validation_labels))\n",
        "print(training_label_seq[0])\n",
        "print(training_label_seq[1])\n",
        "print(training_label_seq[2])\n",
        "print(training_label_seq.shape)\n",
        "\n",
        "print(validation_label_seq[0])\n",
        "print(validation_label_seq[1])\n",
        "print(validation_label_seq[2])\n",
        "print(validation_label_seq.shape)"
      ],
      "execution_count": 15,
      "outputs": [
        {
          "output_type": "stream",
          "text": [
            "[4]\n",
            "[2]\n",
            "[1]\n",
            "(1780, 1)\n",
            "[5]\n",
            "[4]\n",
            "[3]\n",
            "(445, 1)\n"
          ],
          "name": "stdout"
        }
      ]
    },
    {
      "cell_type": "code",
      "metadata": {
        "id": "gPPyAKiEg8F7",
        "colab_type": "code",
        "colab": {
          "base_uri": "https://localhost:8080/",
          "height": 87
        },
        "outputId": "21b34121-d5b9-4ec0-9326-9750b2e1d08f"
      },
      "source": [
        "reverse_word_index = dict([(value, key) for (key, value) in word_index.items()])\n",
        "\n",
        "def decode_article(text):\n",
        "    return ' '.join([reverse_word_index.get(i, '?') for i in text])\n",
        "print(decode_article(train_padded[10]))\n",
        "print('---')\n",
        "print(train_articles[10])"
      ],
      "execution_count": 16,
      "outputs": [
        {
          "output_type": "stream",
          "text": [
            "berlin <OOV> anti nazi film german movie anti nazi <OOV> <OOV> drawn <OOV> <OOV> berlin film festival <OOV> <OOV> final days <OOV> final days member white rose movement <OOV> 21 arrested <OOV> brother hans <OOV> <OOV> <OOV> <OOV> <OOV> tyranny <OOV> <OOV> director marc <OOV> said feeling responsibility keep legacy <OOV> going must <OOV> keep ideas alive added film drew <OOV> <OOV> <OOV> <OOV> trial <OOV> <OOV> <OOV> east germany secret police discovery <OOV> behind film <OOV> worked closely <OOV> relatives including one <OOV> sisters ensure historical <OOV> film <OOV> members white rose <OOV> group first started <OOV> anti nazi <OOV> summer <OOV> arrested dropped <OOV> munich university calling day <OOV> <OOV> <OOV> regime film <OOV> six days <OOV> arrest intense trial saw <OOV> initially deny charges ended <OOV> appearance one three german films <OOV> top prize festival south african film version <OOV> <OOV> opera <OOV> shot <OOV> town <OOV> language also <OOV> berlin festival film entitled u <OOV> <OOV> <OOV> <OOV> <OOV> story set performed 40 strong music theatre <OOV> debut film performance film first south african feature 25 years second nominated golden bear award ? ? ? ? ? ? ? ? ? ? ? ? ? ?\n",
            "---\n",
            "berlin cheers anti-nazi film german movie anti-nazi resistance heroine drawn loud applause berlin film festival.  sophie scholl - final days portrays final days member white rose movement. scholl  21  arrested beheaded brother  hans  1943 distributing leaflets condemning  abhorrent tyranny  adolf hitler. director marc rothemund said:  feeling responsibility keep legacy scholls going.   must somehow keep ideas alive   added.  film drew transcripts gestapo interrogations scholl trial preserved archive communist east germany secret police. discovery inspiration behind film rothemund  worked closely surviving relatives  including one scholl sisters  ensure historical accuracy film. scholl members white rose resistance group first started distributing anti-nazi leaflets summer 1942. arrested dropped leaflets munich university calling  day reckoning  adolf hitler regime. film focuses six days scholl arrest intense trial saw scholl initially deny charges ended defiant appearance. one three german films vying top prize festival.  south african film version bizet tragic opera carmen shot cape town xhosa language also premiered berlin festival. film entitled u-carmen ekhayelitsha carmen khayelitsha township story set. performed 40-strong music theatre troupe debut film performance. film first south african feature 25 years second nominated golden bear award.\n"
          ],
          "name": "stdout"
        }
      ]
    },
    {
      "cell_type": "code",
      "metadata": {
        "id": "oHgHiCf3hG8C",
        "colab_type": "code",
        "colab": {
          "base_uri": "https://localhost:8080/",
          "height": 286
        },
        "outputId": "33f6cd71-9dba-49a2-b7c1-79a2d1a4145d"
      },
      "source": [
        "model = tf.keras.Sequential([\n",
        "    # Add an Embedding layer expecting input vocab of size 5000, and output embedding dimension of size 64 we set at the top\n",
        "    tf.keras.layers.Embedding(vocab_size, embedding_dim),\n",
        "    tf.keras.layers.Bidirectional(tf.keras.layers.LSTM(embedding_dim)),\n",
        "#    tf.keras.layers.Bidirectional(tf.keras.layers.LSTM(32)),\n",
        "    # use ReLU in place of tanh function since they are very good alternatives of each other.\n",
        "    tf.keras.layers.Dense(embedding_dim, activation='relu'),\n",
        "    # Add a Dense layer with 6 units and softmax activation.\n",
        "    # When we have multiple outputs, softmax convert outputs layers into a probability distribution.\n",
        "    tf.keras.layers.Dense(6, activation='softmax')\n",
        "])\n",
        "model.summary()"
      ],
      "execution_count": 17,
      "outputs": [
        {
          "output_type": "stream",
          "text": [
            "Model: \"sequential\"\n",
            "_________________________________________________________________\n",
            "Layer (type)                 Output Shape              Param #   \n",
            "=================================================================\n",
            "embedding (Embedding)        (None, None, 64)          320000    \n",
            "_________________________________________________________________\n",
            "bidirectional (Bidirectional (None, 128)               66048     \n",
            "_________________________________________________________________\n",
            "dense (Dense)                (None, 64)                8256      \n",
            "_________________________________________________________________\n",
            "dense_1 (Dense)              (None, 6)                 390       \n",
            "=================================================================\n",
            "Total params: 394,694\n",
            "Trainable params: 394,694\n",
            "Non-trainable params: 0\n",
            "_________________________________________________________________\n"
          ],
          "name": "stdout"
        }
      ]
    },
    {
      "cell_type": "code",
      "metadata": {
        "id": "2xyWZCrYhLp_",
        "colab_type": "code",
        "colab": {
          "base_uri": "https://localhost:8080/",
          "height": 34
        },
        "outputId": "1e012e7d-fdd4-4553-a029-3528d2c55243"
      },
      "source": [
        "print(set(labels))"
      ],
      "execution_count": 18,
      "outputs": [
        {
          "output_type": "stream",
          "text": [
            "{'business', 'tech', 'politics', 'sport', 'entertainment'}\n"
          ],
          "name": "stdout"
        }
      ]
    },
    {
      "cell_type": "code",
      "metadata": {
        "id": "o3c8f0K-hN2I",
        "colab_type": "code",
        "colab": {
          "base_uri": "https://localhost:8080/",
          "height": 1000
        },
        "outputId": "67e3fdcf-c385-476c-a15e-142943b3329f"
      },
      "source": [
        "model.compile(loss='sparse_categorical_crossentropy', optimizer='adam', metrics=['accuracy'])\n",
        "num_epochs = 50\n",
        "history = model.fit(train_padded, training_label_seq, epochs=num_epochs, validation_data=(validation_padded, validation_label_seq), verbose=2)"
      ],
      "execution_count": 19,
      "outputs": [
        {
          "output_type": "stream",
          "text": [
            "Epoch 1/50\n",
            "56/56 - 2s - loss: 1.5792 - accuracy: 0.3006 - val_loss: 1.2540 - val_accuracy: 0.4562\n",
            "Epoch 2/50\n",
            "56/56 - 1s - loss: 0.8417 - accuracy: 0.7045 - val_loss: 0.6082 - val_accuracy: 0.8202\n",
            "Epoch 3/50\n",
            "56/56 - 1s - loss: 0.3122 - accuracy: 0.9056 - val_loss: 0.3741 - val_accuracy: 0.8854\n",
            "Epoch 4/50\n",
            "56/56 - 1s - loss: 0.1213 - accuracy: 0.9691 - val_loss: 0.3265 - val_accuracy: 0.9124\n",
            "Epoch 5/50\n",
            "56/56 - 1s - loss: 0.0699 - accuracy: 0.9837 - val_loss: 0.4001 - val_accuracy: 0.8831\n",
            "Epoch 6/50\n",
            "56/56 - 1s - loss: 0.0829 - accuracy: 0.9775 - val_loss: 0.4247 - val_accuracy: 0.8404\n",
            "Epoch 7/50\n",
            "56/56 - 1s - loss: 0.1118 - accuracy: 0.9478 - val_loss: 0.3127 - val_accuracy: 0.9056\n",
            "Epoch 8/50\n",
            "56/56 - 1s - loss: 0.0229 - accuracy: 0.9966 - val_loss: 0.2888 - val_accuracy: 0.9303\n",
            "Epoch 9/50\n",
            "56/56 - 1s - loss: 0.0050 - accuracy: 0.9994 - val_loss: 0.3102 - val_accuracy: 0.9303\n",
            "Epoch 10/50\n",
            "56/56 - 1s - loss: 0.0022 - accuracy: 1.0000 - val_loss: 0.3198 - val_accuracy: 0.9303\n",
            "Epoch 11/50\n",
            "56/56 - 1s - loss: 0.0014 - accuracy: 1.0000 - val_loss: 0.3202 - val_accuracy: 0.9348\n",
            "Epoch 12/50\n",
            "56/56 - 1s - loss: 0.0011 - accuracy: 1.0000 - val_loss: 0.3504 - val_accuracy: 0.9281\n",
            "Epoch 13/50\n",
            "56/56 - 1s - loss: 8.3982e-04 - accuracy: 1.0000 - val_loss: 0.3251 - val_accuracy: 0.9303\n",
            "Epoch 14/50\n",
            "56/56 - 1s - loss: 6.8195e-04 - accuracy: 1.0000 - val_loss: 0.3329 - val_accuracy: 0.9348\n",
            "Epoch 15/50\n",
            "56/56 - 1s - loss: 0.0220 - accuracy: 0.9944 - val_loss: 0.3063 - val_accuracy: 0.9191\n",
            "Epoch 16/50\n",
            "56/56 - 1s - loss: 0.0041 - accuracy: 1.0000 - val_loss: 0.3051 - val_accuracy: 0.9348\n",
            "Epoch 17/50\n",
            "56/56 - 1s - loss: 8.5842e-04 - accuracy: 1.0000 - val_loss: 0.3196 - val_accuracy: 0.9326\n",
            "Epoch 18/50\n",
            "56/56 - 1s - loss: 6.3913e-04 - accuracy: 1.0000 - val_loss: 0.3312 - val_accuracy: 0.9326\n",
            "Epoch 19/50\n",
            "56/56 - 1s - loss: 4.6622e-04 - accuracy: 1.0000 - val_loss: 0.3401 - val_accuracy: 0.9348\n",
            "Epoch 20/50\n",
            "56/56 - 1s - loss: 3.5642e-04 - accuracy: 1.0000 - val_loss: 0.3470 - val_accuracy: 0.9303\n",
            "Epoch 21/50\n",
            "56/56 - 1s - loss: 3.0815e-04 - accuracy: 1.0000 - val_loss: 0.3536 - val_accuracy: 0.9326\n",
            "Epoch 22/50\n",
            "56/56 - 1s - loss: 2.6444e-04 - accuracy: 1.0000 - val_loss: 0.3601 - val_accuracy: 0.9326\n",
            "Epoch 23/50\n",
            "56/56 - 1s - loss: 2.3594e-04 - accuracy: 1.0000 - val_loss: 0.3667 - val_accuracy: 0.9326\n",
            "Epoch 24/50\n",
            "56/56 - 1s - loss: 2.3956e-04 - accuracy: 1.0000 - val_loss: 0.3717 - val_accuracy: 0.9326\n",
            "Epoch 25/50\n",
            "56/56 - 1s - loss: 1.8411e-04 - accuracy: 1.0000 - val_loss: 0.3762 - val_accuracy: 0.9348\n",
            "Epoch 26/50\n",
            "56/56 - 1s - loss: 1.6733e-04 - accuracy: 1.0000 - val_loss: 0.3812 - val_accuracy: 0.9326\n",
            "Epoch 27/50\n",
            "56/56 - 1s - loss: 1.5608e-04 - accuracy: 1.0000 - val_loss: 0.3831 - val_accuracy: 0.9348\n",
            "Epoch 28/50\n",
            "56/56 - 1s - loss: 1.4183e-04 - accuracy: 1.0000 - val_loss: 0.3875 - val_accuracy: 0.9348\n",
            "Epoch 29/50\n",
            "56/56 - 1s - loss: 1.6247e-04 - accuracy: 1.0000 - val_loss: 0.3927 - val_accuracy: 0.9371\n",
            "Epoch 30/50\n",
            "56/56 - 1s - loss: 1.1862e-04 - accuracy: 1.0000 - val_loss: 0.3963 - val_accuracy: 0.9371\n",
            "Epoch 31/50\n",
            "56/56 - 1s - loss: 1.1208e-04 - accuracy: 1.0000 - val_loss: 0.4002 - val_accuracy: 0.9371\n",
            "Epoch 32/50\n",
            "56/56 - 1s - loss: 1.2909e-04 - accuracy: 1.0000 - val_loss: 0.4022 - val_accuracy: 0.9371\n",
            "Epoch 33/50\n",
            "56/56 - 1s - loss: 9.4715e-05 - accuracy: 1.0000 - val_loss: 0.4054 - val_accuracy: 0.9371\n",
            "Epoch 34/50\n",
            "56/56 - 1s - loss: 8.8727e-05 - accuracy: 1.0000 - val_loss: 0.4088 - val_accuracy: 0.9371\n",
            "Epoch 35/50\n",
            "56/56 - 1s - loss: 8.5175e-05 - accuracy: 1.0000 - val_loss: 0.4120 - val_accuracy: 0.9371\n",
            "Epoch 36/50\n",
            "56/56 - 1s - loss: 1.2662e-04 - accuracy: 1.0000 - val_loss: 0.4105 - val_accuracy: 0.9371\n",
            "Epoch 37/50\n",
            "56/56 - 1s - loss: 7.4024e-05 - accuracy: 1.0000 - val_loss: 0.4142 - val_accuracy: 0.9371\n",
            "Epoch 38/50\n",
            "56/56 - 1s - loss: 7.1258e-05 - accuracy: 1.0000 - val_loss: 0.4173 - val_accuracy: 0.9371\n",
            "Epoch 39/50\n",
            "56/56 - 1s - loss: 6.8580e-05 - accuracy: 1.0000 - val_loss: 0.4206 - val_accuracy: 0.9371\n",
            "Epoch 40/50\n",
            "56/56 - 1s - loss: 8.2002e-05 - accuracy: 1.0000 - val_loss: 0.4221 - val_accuracy: 0.9371\n",
            "Epoch 41/50\n",
            "56/56 - 1s - loss: 5.9479e-05 - accuracy: 1.0000 - val_loss: 0.4252 - val_accuracy: 0.9348\n",
            "Epoch 42/50\n",
            "56/56 - 1s - loss: 5.9825e-05 - accuracy: 1.0000 - val_loss: 0.4258 - val_accuracy: 0.9348\n",
            "Epoch 43/50\n",
            "56/56 - 1s - loss: 5.4181e-05 - accuracy: 1.0000 - val_loss: 0.4327 - val_accuracy: 0.9348\n",
            "Epoch 44/50\n",
            "56/56 - 1s - loss: 5.1417e-05 - accuracy: 1.0000 - val_loss: 0.4346 - val_accuracy: 0.9303\n",
            "Epoch 45/50\n",
            "56/56 - 1s - loss: 4.9909e-05 - accuracy: 1.0000 - val_loss: 0.4378 - val_accuracy: 0.9326\n",
            "Epoch 46/50\n",
            "56/56 - 1s - loss: 4.6309e-05 - accuracy: 1.0000 - val_loss: 0.4371 - val_accuracy: 0.9303\n",
            "Epoch 47/50\n",
            "56/56 - 1s - loss: 4.3287e-05 - accuracy: 1.0000 - val_loss: 0.4403 - val_accuracy: 0.9303\n",
            "Epoch 48/50\n",
            "56/56 - 1s - loss: 4.2913e-05 - accuracy: 1.0000 - val_loss: 0.4472 - val_accuracy: 0.9303\n",
            "Epoch 49/50\n",
            "56/56 - 1s - loss: 4.1114e-05 - accuracy: 1.0000 - val_loss: 0.4495 - val_accuracy: 0.9303\n",
            "Epoch 50/50\n",
            "56/56 - 1s - loss: 3.8828e-05 - accuracy: 1.0000 - val_loss: 0.4486 - val_accuracy: 0.9303\n"
          ],
          "name": "stdout"
        }
      ]
    },
    {
      "cell_type": "code",
      "metadata": {
        "id": "sZHeW1MyhQhP",
        "colab_type": "code",
        "colab": {
          "base_uri": "https://localhost:8080/",
          "height": 541
        },
        "outputId": "8aa0610c-077a-4abb-fe7e-3e474ec1725b"
      },
      "source": [
        "import matplotlib.pyplot as plt\n",
        "def plot_graphs(history, string):\n",
        "  plt.plot(history.history[string])\n",
        "  plt.plot(history.history['val_'+string])\n",
        "  plt.xlabel(\"Epochs\")\n",
        "  plt.ylabel(string)\n",
        "  plt.legend([string, 'val_'+string])\n",
        "  plt.show()\n",
        "  \n",
        "plot_graphs(history, \"accuracy\")\n",
        "plot_graphs(history, \"loss\")"
      ],
      "execution_count": 20,
      "outputs": [
        {
          "output_type": "display_data",
          "data": {
            "image/png": "[encoded data removed]",
            "text/plain": [
              "<Figure size 432x288 with 1 Axes>"
            ]
          },
          "metadata": {
            "tags": [],
            "needs_background": "light"
          }
        },
        {
          "output_type": "display_data",
          "data": {
            "image/png": "[encoded data removed]",
            "text/plain": [
              "<Figure size 432x288 with 1 Axes>"
            ]
          },
          "metadata": {
            "tags": [],
            "needs_background": "light"
          }
        }
      ]
    },
    {
      "cell_type": "code",
      "metadata": {
        "id": "79i3ykjbhryr",
        "colab_type": "code",
        "colab": {}
      },
      "source": [
        "yhat = model.predict(validation_padded)"
      ],
      "execution_count": 22,
      "outputs": []
    },
    {
      "cell_type": "code",
      "metadata": {
        "id": "kTWNiEvzZdQL",
        "colab_type": "code",
        "colab": {
          "base_uri": "https://localhost:8080/",
          "height": 87
        },
        "outputId": "8d1df8d0-dfb9-4528-bbc0-9cb3586b7e84"
      },
      "source": [
        "ypred = model.predict_classes(validation_padded)"
      ],
      "execution_count": 23,
      "outputs": [
        {
          "output_type": "stream",
          "text": [
            "WARNING:tensorflow:From <ipython-input-23-ef04949d242d>:1: Sequential.predict_classes (from tensorflow.python.keras.engine.sequential) is deprecated and will be removed after 2021-01-01.\n",
            "Instructions for updating:\n",
            "Please use instead:* `np.argmax(model.predict(x), axis=-1)`,   if your model does multi-class classification   (e.g. if it uses a `softmax` last-layer activation).* `(model.predict(x) > 0.5).astype(\"int32\")`,   if your model does binary classification   (e.g. if it uses a `sigmoid` last-layer activation).\n"
          ],
          "name": "stdout"
        }
      ]
    },
    {
      "cell_type": "code",
      "metadata": {
        "id": "mhc-MkgpZrkO",
        "colab_type": "code",
        "colab": {
          "base_uri": "https://localhost:8080/",
          "height": 370
        },
        "outputId": "77da6aea-005c-4482-ada7-743f2e655db2"
      },
      "source": [
        "ypred"
      ],
      "execution_count": 24,
      "outputs": [
        {
          "output_type": "execute_result",
          "data": {
            "text/plain": [
              "array([5, 4, 3, 1, 1, 4, 2, 4, 5, 5, 3, 3, 2, 5, 1, 5, 5, 2, 1, 3, 4, 2,\n",
              "       1, 5, 4, 3, 3, 1, 1, 1, 2, 2, 2, 2, 5, 2, 3, 3, 4, 4, 5, 1, 5, 2,\n",
              "       3, 1, 1, 4, 4, 2, 4, 1, 2, 2, 3, 1, 1, 3, 4, 5, 5, 5, 2, 3, 3, 2,\n",
              "       4, 3, 3, 3, 3, 3, 5, 5, 4, 3, 1, 5, 1, 4, 1, 1, 1, 5, 4, 5, 4, 1,\n",
              "       4, 1, 1, 5, 5, 2, 5, 5, 3, 2, 1, 4, 4, 1, 2, 1, 2, 5, 1, 3, 5, 1,\n",
              "       1, 2, 3, 4, 4, 2, 2, 1, 3, 5, 1, 1, 3, 5, 4, 2, 5, 4, 3, 1, 3, 4,\n",
              "       5, 1, 3, 2, 5, 3, 5, 3, 1, 3, 2, 2, 3, 2, 4, 1, 2, 5, 2, 1, 1, 4,\n",
              "       4, 3, 4, 3, 3, 1, 1, 1, 2, 4, 5, 2, 1, 2, 1, 2, 4, 2, 2, 2, 2, 1,\n",
              "       1, 1, 2, 2, 5, 2, 2, 2, 1, 3, 1, 4, 2, 1, 1, 1, 2, 5, 4, 4, 4, 3,\n",
              "       2, 2, 4, 2, 4, 1, 1, 3, 3, 3, 1, 1, 3, 3, 4, 2, 1, 1, 1, 1, 4, 1,\n",
              "       2, 2, 2, 2, 1, 3, 1, 4, 4, 1, 4, 2, 5, 2, 1, 2, 4, 4, 3, 5, 2, 5,\n",
              "       2, 4, 3, 5, 4, 5, 5, 4, 4, 4, 4, 2, 1, 1, 5, 2, 3, 5, 2, 4, 1, 4,\n",
              "       3, 1, 3, 2, 3, 3, 2, 2, 2, 4, 3, 2, 3, 2, 4, 3, 1, 1, 3, 1, 5, 4,\n",
              "       4, 2, 4, 1, 2, 2, 4, 1, 4, 4, 4, 1, 5, 1, 3, 2, 3, 3, 5, 4, 2, 4,\n",
              "       1, 5, 5, 3, 2, 5, 4, 4, 1, 5, 2, 3, 3, 3, 4, 4, 2, 3, 2, 4, 3, 5,\n",
              "       1, 4, 2, 4, 5, 4, 4, 1, 3, 1, 1, 3, 5, 5, 2, 3, 3, 1, 2, 2, 4, 2,\n",
              "       4, 4, 1, 2, 3, 1, 2, 2, 1, 4, 1, 4, 5, 1, 1, 5, 2, 4, 1, 1, 3, 4,\n",
              "       2, 3, 1, 1, 3, 4, 4, 4, 2, 2, 1, 5, 4, 4, 2, 3, 4, 1, 1, 4, 4, 3,\n",
              "       2, 1, 5, 5, 1, 3, 4, 1, 2, 4, 2, 1, 1, 4, 1, 4, 4, 2, 2, 1, 2, 3,\n",
              "       2, 2, 5, 3, 4, 3, 2, 5, 3, 4, 5, 1, 3, 5, 1, 4, 2, 4, 5, 4, 1, 2,\n",
              "       2, 3, 5, 3, 1])"
            ]
          },
          "metadata": {
            "tags": []
          },
          "execution_count": 24
        }
      ]
    },
    {
      "cell_type": "code",
      "metadata": {
        "id": "3cY14ULmZsy8",
        "colab_type": "code",
        "colab": {}
      },
      "source": [
        "validation_label_seq=validation_label_seq.flatten()"
      ],
      "execution_count": 29,
      "outputs": []
    },
    {
      "cell_type": "code",
      "metadata": {
        "id": "pNM7RNb7ZydD",
        "colab_type": "code",
        "colab": {
          "base_uri": "https://localhost:8080/",
          "height": 34
        },
        "outputId": "8e0cd8c9-7356-4c2d-930c-2a81538efecc"
      },
      "source": [
        "ypred.shape"
      ],
      "execution_count": 28,
      "outputs": [
        {
          "output_type": "execute_result",
          "data": {
            "text/plain": [
              "(445,)"
            ]
          },
          "metadata": {
            "tags": []
          },
          "execution_count": 28
        }
      ]
    },
    {
      "cell_type": "code",
      "metadata": {
        "id": "SmfczdG-Z9jn",
        "colab_type": "code",
        "colab": {
          "base_uri": "https://localhost:8080/",
          "height": 34
        },
        "outputId": "8ed55779-e47b-470a-8449-3cf0009a8214"
      },
      "source": [
        "validation_label_seq.shape"
      ],
      "execution_count": 31,
      "outputs": [
        {
          "output_type": "execute_result",
          "data": {
            "text/plain": [
              "(445,)"
            ]
          },
          "metadata": {
            "tags": []
          },
          "execution_count": 31
        }
      ]
    },
    {
      "cell_type": "code",
      "metadata": {
        "id": "2SbpoXjIaDP_",
        "colab_type": "code",
        "colab": {
          "base_uri": "https://localhost:8080/",
          "height": 101
        },
        "outputId": "944a0d07-76a9-48a8-f0cd-8605af9dc4f4"
      },
      "source": [
        "from sklearn.metrics import confusion_matrix\n",
        "confusion_matrix(validation_label_seq, ypred)"
      ],
      "execution_count": 32,
      "outputs": [
        {
          "output_type": "execute_result",
          "data": {
            "text/plain": [
              "array([[98,  1,  2,  0,  0],\n",
              "       [ 2, 97,  1,  6,  0],\n",
              "       [ 4,  0, 76,  4,  2],\n",
              "       [ 1,  2,  0, 82,  1],\n",
              "       [ 0,  0,  1,  4, 61]])"
            ]
          },
          "metadata": {
            "tags": []
          },
          "execution_count": 32
        }
      ]
    },
    {
      "cell_type": "code",
      "metadata": {
        "id": "lZRGLlNjaQ9D",
        "colab_type": "code",
        "colab": {
          "base_uri": "https://localhost:8080/",
          "height": 218
        },
        "outputId": "f77e8c40-a9c6-44e8-cfad-bfca2b441c81"
      },
      "source": [
        "from sklearn.metrics import classification_report\n",
        "print(classification_report(validation_label_seq, ypred))"
      ],
      "execution_count": 34,
      "outputs": [
        {
          "output_type": "stream",
          "text": [
            "              precision    recall  f1-score   support\n",
            "\n",
            "           1       0.93      0.97      0.95       101\n",
            "           2       0.97      0.92      0.94       106\n",
            "           3       0.95      0.88      0.92        86\n",
            "           4       0.85      0.95      0.90        86\n",
            "           5       0.95      0.92      0.94        66\n",
            "\n",
            "    accuracy                           0.93       445\n",
            "   macro avg       0.93      0.93      0.93       445\n",
            "weighted avg       0.93      0.93      0.93       445\n",
            "\n"
          ],
          "name": "stdout"
        }
      ]
    },
    {
      "cell_type": "code",
      "metadata": {
        "id": "LRNBtyr6aZ_L",
        "colab_type": "code",
        "colab": {}
      },
      "source": [
        ""
      ],
      "execution_count": null,
      "outputs": []
    }
  ]
}